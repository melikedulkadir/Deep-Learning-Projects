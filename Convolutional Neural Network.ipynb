{
 "cells": [
  {
   "cell_type": "markdown",
   "source": [
    "# AIN422 Introduction to Deep Learning Lab\n",
    "## Assignment 2 : Convolutional Neural Network\n",
    "#### Student Number: 21992919\n",
    "##### Student Name/Surname : Melike Nur DULKADİR"
   ],
   "metadata": {
    "collapsed": false
   }
  },
  {
   "cell_type": "markdown",
   "source": [
    "**Aim of the Experiment**\n",
    "- The aim of this assignment is to focus on Convolutional Neural Network (CNN), which is a type of neural network commonly used in image and video recognition, processing and analysis. For this assignment a basic CNN model will be build and then this model will be developed using different methods and techniques.\n",
    "- The MNIST dataset will be used for this assignment."
   ],
   "metadata": {
    "collapsed": false
   }
  },
  {
   "cell_type": "markdown",
   "source": [
    "Before the assignment is started, the necessary libraries are imported."
   ],
   "metadata": {
    "collapsed": false
   }
  },
  {
   "cell_type": "code",
   "execution_count": 1,
   "outputs": [],
   "source": [
    "import numpy as np\n",
    "import matplotlib.pyplot as plt\n",
    "import seaborn as sns\n",
    "import warnings\n",
    "import torch\n",
    "import torch.nn as nn\n",
    "import torch.optim as optim\n",
    "import gzip\n",
    "from sklearn.metrics import classification_report\n",
    "\n",
    "warnings.filterwarnings('ignore')"
   ],
   "metadata": {
    "collapsed": false,
    "ExecuteTime": {
     "end_time": "2023-05-12T11:38:24.974181100Z",
     "start_time": "2023-05-12T11:38:23.210536700Z"
    }
   }
  },
  {
   "cell_type": "markdown",
   "source": [
    "## 1 - Loading the MNIST Dataset Using Custom Data Loader"
   ],
   "metadata": {
    "collapsed": false
   }
  },
  {
   "cell_type": "markdown",
   "source": [
    "This code defines a class CustomMNISTDataset that loads the MNIST dataset from the train-images-idx3-ubyte.gz, train-labels-idx1-ubyte.gz, t10k-images-idx3-ubyte.gz, and t10k-labels-idx1-ubyte.gz files. The __load_images_and_labels__ method reads the data from these files and returns the train and test images and labels. The train_size, test_size, and image_size parameters can be used to control the size of the dataset and the dimensions of the images."
   ],
   "metadata": {
    "collapsed": false
   }
  },
  {
   "cell_type": "code",
   "execution_count": 2,
   "outputs": [],
   "source": [
    "class CustomMNISTDataset:\n",
    "    def __init__(self, train_size = 60000, test_size = 10000, image_size = 28):\n",
    "        self.train_size = train_size\n",
    "        self.test_size = test_size\n",
    "        self.image_size = image_size\n",
    "\n",
    "    def __load_images_and_labels__(self):\n",
    "        with gzip.open('train-images-idx3-ubyte.gz', 'rb') as f:\n",
    "            magic_number = int.from_bytes(f.read(4), 'big')\n",
    "            n_images = int.from_bytes(f.read(4), 'big')\n",
    "            n_rows = int.from_bytes(f.read(4), 'big')\n",
    "            n_cols = int.from_bytes(f.read(4), 'big')\n",
    "            train_images = np.frombuffer(f.read(), dtype=np.uint8).reshape(n_images, n_rows, n_cols)\n",
    "\n",
    "        with gzip.open('train-labels-idx1-ubyte.gz', 'rb') as f:\n",
    "            magic_number = int.from_bytes(f.read(4), 'big')\n",
    "            n_labels = int.from_bytes(f.read(4), 'big')\n",
    "            train_labels = np.frombuffer(f.read(), dtype=np.uint8)\n",
    "\n",
    "        # Load test data\n",
    "        with gzip.open('t10k-images-idx3-ubyte.gz', 'rb') as f:\n",
    "            magic_number = int.from_bytes(f.read(4), 'big')\n",
    "            n_images = int.from_bytes(f.read(4), 'big')\n",
    "            n_rows = int.from_bytes(f.read(4), 'big')\n",
    "            n_cols = int.from_bytes(f.read(4), 'big')\n",
    "            test_images = np.frombuffer(f.read(), dtype=np.uint8).reshape(n_images, n_rows, n_cols)\n",
    "\n",
    "        with gzip.open('t10k-labels-idx1-ubyte.gz', 'rb') as f:\n",
    "            magic_number = int.from_bytes(f.read(4), 'big')\n",
    "            n_labels = int.from_bytes(f.read(4), 'big')\n",
    "            test_labels = np.frombuffer(f.read(), dtype=np.uint8)\n",
    "        return train_images,train_labels,test_images,test_labels"
   ],
   "metadata": {
    "collapsed": false,
    "ExecuteTime": {
     "end_time": "2023-05-12T11:40:46.647466600Z",
     "start_time": "2023-05-12T11:40:46.603184500Z"
    }
   }
  },
  {
   "cell_type": "markdown",
   "source": [
    "CustomDataLoader is a class that creates a custom data loader for a given dataset. It takes in the images and labels of the dataset, the desired batch size, and an optional transform function that can be used to apply transformations to the data. It creates an iterable object that generates batches of data and labels when iterated over, by splitting the dataset into batches of the specified size. If the transform function is provided, it is applied to each data item in the batch before it is returned. The length of the data loader is the number of items in the dataset."
   ],
   "metadata": {
    "collapsed": false
   }
  },
  {
   "cell_type": "code",
   "execution_count": 3,
   "outputs": [],
   "source": [
    "class CustomDataLoader:\n",
    "    def __init__(self, images, labels, batch_size, transform=None):\n",
    "        self.dataset = [(image, label) for image, label in zip(images, labels)]\n",
    "        self.batch_size = batch_size\n",
    "        self.transform = transform\n",
    "\n",
    "    def __iter__(self):\n",
    "        batch_data = []\n",
    "        batch_labels = []\n",
    "        for data, label in self.dataset:\n",
    "            if self.transform:\n",
    "                data = self.transform(data)\n",
    "            batch_data.append(torch.from_numpy(data))\n",
    "            batch_labels.append(torch.tensor(label).long())\n",
    "            if len(batch_data) == self.batch_size:\n",
    "                yield torch.stack(batch_data), torch.stack(batch_labels)\n",
    "                batch_data = []\n",
    "                batch_labels = []\n",
    "        if len(batch_data) > 0:\n",
    "            yield torch.stack(batch_data), torch.stack(batch_labels)\n",
    "\n",
    "    def __len__(self):\n",
    "        return len(self.dataset)"
   ],
   "metadata": {
    "collapsed": false,
    "ExecuteTime": {
     "end_time": "2023-05-12T11:40:47.961733300Z",
     "start_time": "2023-05-12T11:40:47.932725600Z"
    }
   }
  },
  {
   "cell_type": "code",
   "execution_count": 4,
   "outputs": [],
   "source": [
    "custom_dataset = CustomMNISTDataset()\n",
    "train_images, train_labels, test_images, test_labels = custom_dataset.__load_images_and_labels__()"
   ],
   "metadata": {
    "collapsed": false,
    "ExecuteTime": {
     "end_time": "2023-05-12T11:40:49.455151100Z",
     "start_time": "2023-05-12T11:40:49.258914500Z"
    }
   }
  },
  {
   "cell_type": "markdown",
   "source": [
    "## 2 - Analyzing the Dataset and Preprocessing"
   ],
   "metadata": {
    "collapsed": false
   }
  },
  {
   "cell_type": "markdown",
   "source": [
    "Printing first ten images from the dataset will help to clearly understand the dataset."
   ],
   "metadata": {
    "collapsed": false
   }
  },
  {
   "cell_type": "markdown",
   "source": [
    "##### Preprocess Data"
   ],
   "metadata": {
    "collapsed": false
   }
  },
  {
   "cell_type": "code",
   "execution_count": 5,
   "outputs": [],
   "source": [
    "train_dataloader = CustomDataLoader(train_images, train_labels, batch_size=32)\n",
    "test_dataloader = CustomDataLoader(test_images, test_labels, batch_size=32)\n",
    "\n",
    "\n",
    "# Normalize pixel values to [0, 1]\n",
    "train_images = train_images / 255.0\n",
    "test_images = test_images / 255.0\n",
    "\n",
    "# Split into training and testing sets\n",
    "train_size = 60000\n",
    "test_size = 10000\n",
    "\n",
    "X_train = train_images[:train_size]\n",
    "y_train = train_labels[:train_size]\n",
    "\n",
    "X_test = test_images[:test_size]\n",
    "y_test = test_labels[:test_size]"
   ],
   "metadata": {
    "collapsed": false,
    "ExecuteTime": {
     "end_time": "2023-05-12T11:40:52.550289700Z",
     "start_time": "2023-05-12T11:40:52.410222800Z"
    }
   }
  },
  {
   "cell_type": "code",
   "execution_count": 6,
   "outputs": [
    {
     "name": "stdout",
     "output_type": "stream",
     "text": [
      "X_train shape: (60000, 28, 28)\n",
      "y_train shape: (60000,)\n",
      "60000 train samples\n",
      "10000 test samples\n"
     ]
    }
   ],
   "source": [
    "print('X_train shape:', X_train.shape)\n",
    "print('y_train shape:', y_train.shape)\n",
    "print(X_train.shape[0], 'train samples')\n",
    "print(X_test.shape[0], 'test samples')"
   ],
   "metadata": {
    "collapsed": false,
    "ExecuteTime": {
     "end_time": "2023-05-12T11:40:53.600755400Z",
     "start_time": "2023-05-12T11:40:53.578722400Z"
    }
   }
  },
  {
   "cell_type": "code",
   "execution_count": 7,
   "outputs": [
    {
     "data": {
      "text/plain": "<Figure size 640x480 with 10 Axes>",
      "image/png": "[encoded data removed]"
     },
     "metadata": {},
     "output_type": "display_data"
    }
   ],
   "source": [
    "fig, ax = plt.subplots(nrows=2, ncols=5, sharex= 'all', sharey='all')\n",
    "ax = ax.flatten()\n",
    "for i in range(10):\n",
    "    img = X_train[y_train == i][0].reshape(28, 28)\n",
    "    ax[i].imshow(img, cmap='Greys', interpolation='nearest')\n",
    "    ax[i].set_title(f'{i}')\n",
    "ax[0].set_xticks([])\n",
    "ax[0].set_yticks([])\n",
    "plt.tight_layout()\n",
    "plt.show()"
   ],
   "metadata": {
    "collapsed": false,
    "ExecuteTime": {
     "end_time": "2023-05-12T11:40:54.831915700Z",
     "start_time": "2023-05-12T11:40:54.338106200Z"
    }
   }
  },
  {
   "cell_type": "markdown",
   "source": [
    "##### Distribution of Data\n",
    "As can be seen from the count plots, the dataset has not an equal distribution of labels. However, the sample numbers in the test and train data are proportional to the labels."
   ],
   "metadata": {
    "collapsed": false
   }
  },
  {
   "cell_type": "code",
   "execution_count": 8,
   "outputs": [
    {
     "data": {
      "text/plain": "<Figure size 1500x500 with 2 Axes>",
      "image/png": "[encoded data removed]"
     },
     "metadata": {},
     "output_type": "display_data"
    }
   ],
   "source": [
    "fig, axs = plt.subplots(1,2,figsize=(15,5))\n",
    "\n",
    "# Count plot for training set\n",
    "sns.countplot(x=y_train.ravel(), ax=axs[0])\n",
    "axs[0].set_title('Distribution of Training data')\n",
    "axs[0].set_xlabel('Classes')\n",
    "\n",
    "# Count plot for testing set\n",
    "sns.countplot(x=y_test.ravel(), ax=axs[1])\n",
    "axs[1].set_title('Distribution of Testing data')\n",
    "axs[1].set_xlabel('Classes')\n",
    "plt.show()"
   ],
   "metadata": {
    "collapsed": false,
    "ExecuteTime": {
     "end_time": "2023-05-12T11:40:55.742678500Z",
     "start_time": "2023-05-12T11:40:55.479677800Z"
    }
   }
  },
  {
   "cell_type": "markdown",
   "source": [
    "Bar plot for showing number of images in each class."
   ],
   "metadata": {
    "collapsed": false
   }
  },
  {
   "cell_type": "code",
   "execution_count": 9,
   "outputs": [
    {
     "data": {
      "text/plain": "<Figure size 640x480 with 1 Axes>",
      "image/png": "[encoded data removed]"
     },
     "metadata": {},
     "output_type": "display_data"
    }
   ],
   "source": [
    "train_counts = np.bincount(y_train)\n",
    "test_counts = np.bincount(y_test)\n",
    "\n",
    "fig, ax = plt.subplots()\n",
    "ax.bar(np.arange(10), train_counts, label='Training set')\n",
    "ax.bar(np.arange(10), test_counts, label='Test set', alpha=0.5)\n",
    "ax.set_xlabel('Class')\n",
    "ax.set_ylabel('Number of images')\n",
    "ax.legend()\n",
    "plt.show()"
   ],
   "metadata": {
    "collapsed": false,
    "ExecuteTime": {
     "end_time": "2023-05-12T11:40:56.766009400Z",
     "start_time": "2023-05-12T11:40:56.610114Z"
    }
   }
  },
  {
   "cell_type": "markdown",
   "source": [
    "##### Histogram of Pixel Intensities\n",
    "The flatten method is used to transform the 2D images into 1D arrays, so that the pixel intensities can be visualized in a histogram. The histogram shows the distribution of pixel intensities across all the images in the MNIST training set."
   ],
   "metadata": {
    "collapsed": false
   }
  },
  {
   "cell_type": "code",
   "execution_count": 10,
   "outputs": [
    {
     "data": {
      "text/plain": "<Figure size 640x480 with 1 Axes>",
      "image/png": "[encoded data removed]"
     },
     "metadata": {},
     "output_type": "display_data"
    }
   ],
   "source": [
    "fig, ax = plt.subplots()\n",
    "ax.hist(X_train.flatten(), bins=10)\n",
    "ax.set_xlabel('Pixel intensity')\n",
    "ax.set_ylabel('Number of pixels')\n",
    "plt.show()"
   ],
   "metadata": {
    "collapsed": false,
    "ExecuteTime": {
     "end_time": "2023-05-12T11:40:59.248111300Z",
     "start_time": "2023-05-12T11:40:58.665107200Z"
    }
   }
  },
  {
   "cell_type": "markdown",
   "source": [
    "Printing first ten images after preprocessing."
   ],
   "metadata": {
    "collapsed": false
   }
  },
  {
   "cell_type": "code",
   "execution_count": 11,
   "outputs": [
    {
     "data": {
      "text/plain": "<Figure size 640x480 with 10 Axes>",
      "image/png": "[encoded data removed]"
     },
     "metadata": {},
     "output_type": "display_data"
    }
   ],
   "source": [
    "fig, ax = plt.subplots(nrows=2, ncols=5, sharex='all', sharey='all')\n",
    "ax = ax.flatten()\n",
    "for i in range(10):\n",
    "    img = X_train[y_train == i][0].reshape(28, 28)\n",
    "    ax[i].imshow(img, cmap='Greys', interpolation='nearest')\n",
    "    ax[i].set_title(f'{i}')\n",
    "ax[0].set_xticks([])\n",
    "ax[0].set_yticks([])\n",
    "plt.tight_layout()\n",
    "plt.show()"
   ],
   "metadata": {
    "collapsed": false,
    "ExecuteTime": {
     "end_time": "2023-05-12T11:41:00.966076900Z",
     "start_time": "2023-05-12T11:41:00.588078700Z"
    }
   }
  },
  {
   "cell_type": "markdown",
   "source": [
    "## 3 - Designing Custom CNN"
   ],
   "metadata": {
    "collapsed": false
   }
  },
  {
   "cell_type": "code",
   "execution_count": 12,
   "outputs": [],
   "source": [
    "device = torch.device(\"cuda\" if torch.cuda.is_available() else \"cpu\")"
   ],
   "metadata": {
    "collapsed": false,
    "ExecuteTime": {
     "end_time": "2023-05-12T11:41:03.423932500Z",
     "start_time": "2023-05-12T11:41:03.377538800Z"
    }
   }
  },
  {
   "cell_type": "markdown",
   "source": [
    "**in_channels** is a parameter of the nn. Conv2d module in PyTorch, which specifies the number of input channels in the input tensor. For example, in the case of a grayscale image, the input tensor has one channel, so in_channels = 1.\n",
    "**out_channels** refers to the number of output channels or filters.\n",
    "**kernel_size** is a hyperparameter that determines the size of the filter used to convolve over the input image."
   ],
   "metadata": {
    "collapsed": false
   }
  },
  {
   "cell_type": "code",
   "execution_count": 49,
   "outputs": [],
   "source": [
    "class MyCNN(nn.Module):\n",
    "    def __init__(self, out_channels=16, kernel_size=3, stride=1, padding=1):\n",
    "        super(MyCNN, self).__init__()\n",
    "        self.out_channels = out_channels\n",
    "        self.output = (28 - kernel_size + (2*padding)) / stride + 1\n",
    "        self.conv1 = nn.Conv2d(in_channels=1, out_channels=out_channels, kernel_size=kernel_size, stride=stride, padding=padding)\n",
    "\n",
    "        self.pool1 = nn.MaxPool2d(kernel_size=2, stride=2)\n",
    "        self.output = (self.output - 2) / 2 + 1\n",
    "        self.fc1 = nn.Linear(in_features=int(self.output)*int(self.output)*int(self.out_channels), out_features=10)\n",
    "\n",
    "    def __repr__(self):\n",
    "        return \"\"\n",
    "\n",
    "    def forward(self, x):\n",
    "        x = x.view(-1, 1, 28, 28)  # Add this line to specify input shape\n",
    "        x = self.conv1(x)\n",
    "        x = nn.functional.relu(x)\n",
    "        x = self.pool1(x)\n",
    "        x = x.view(-1, int(self.output)*int(self.output)*int(self.out_channels))\n",
    "        x = self.fc1(x)\n",
    "        return x"
   ],
   "metadata": {
    "collapsed": false,
    "ExecuteTime": {
     "end_time": "2023-05-10T11:47:13.935567500Z",
     "start_time": "2023-05-10T11:47:13.904503300Z"
    }
   }
  },
  {
   "cell_type": "markdown",
   "source": [
    "This code defines a convolutional neural network architecture with one convolutional layer followed by max pooling and a fully connected layer. The number of output channels, kernel size, stride, and padding of the convolutional layer are adjustable with default values. The input image size is assumed to be 28x28, which is the size of MNIST dataset images.\n",
    "\n",
    "The \\__init__ method initializes the layers of the network. The forward method defines the forward pass of the network, where the input x is processed through the layers sequentially. The ReLU activation function is used after the convolutional layer."
   ],
   "metadata": {
    "collapsed": false
   }
  },
  {
   "cell_type": "code",
   "execution_count": 18,
   "outputs": [],
   "source": [
    "# set epoch hyperparameter\n",
    "num_epochs = 10"
   ],
   "metadata": {
    "collapsed": false,
    "ExecuteTime": {
     "end_time": "2023-05-12T12:18:26.456958700Z",
     "start_time": "2023-05-12T12:18:26.445958800Z"
    }
   }
  },
  {
   "cell_type": "markdown",
   "source": [
    "The function trains and evaluates a PyTorch model with specified parameters and prints the classification report if specified."
   ],
   "metadata": {
    "collapsed": false
   }
  },
  {
   "cell_type": "code",
   "execution_count": 16,
   "outputs": [],
   "source": [
    "def train_and_evaluate_model(model, train_dataloader, test_dataloader, parameter_name,i,batch_size,learning_rate,show_classification_report):\n",
    "\n",
    "    criterion = nn.CrossEntropyLoss()\n",
    "    optimizer = optim.SGD(model.parameters(), lr=learning_rate)\n",
    "    torch.nn.utils.clip_grad_norm_(model.parameters(), 1.0)\n",
    "\n",
    "    if not i == \"\":\n",
    "        print(parameter_name,\":\",i)\n",
    "\n",
    "    for epoch in range(num_epochs):\n",
    "\n",
    "        model.train()\n",
    "\n",
    "        train_loss = 0.0\n",
    "        train_correct = 0\n",
    "        train_total = 0\n",
    "\n",
    "        # Train the model on the training dataset\n",
    "        for batch_idx, (data, target) in enumerate(train_dataloader):\n",
    "\n",
    "            start_idx = batch_idx * batch_size\n",
    "            end_idx = (batch_idx + 1) * batch_size\n",
    "            batch_data = torch.from_numpy(X_train[start_idx:end_idx]).float()\n",
    "            batch_labels = y_train[start_idx:end_idx]\n",
    "\n",
    "            data = data.float()\n",
    "            output = model(batch_data)\n",
    "\n",
    "            # Calculate the loss\n",
    "            loss = criterion(output, target)\n",
    "            train_loss += loss.item() * data.size(0)\n",
    "\n",
    "            # Backward pass\n",
    "            optimizer.zero_grad()\n",
    "            loss.backward()\n",
    "            torch.nn.utils.clip_grad_norm_(model.parameters(), 1.0)\n",
    "            optimizer.step()\n",
    "\n",
    "            # Calculate accuracy\n",
    "            _, predicted = torch.max(output.data, 1)\n",
    "            train_total += target.size(0)\n",
    "            train_correct += (predicted == target).sum().item()\n",
    "\n",
    "        # Calculate average training loss and accuracy\n",
    "        train_loss /= len(train_dataloader.dataset)\n",
    "        train_accuracy = 100 * train_correct / train_total\n",
    "\n",
    "        # Evaluate the model on the testing dataset\n",
    "        model.eval()  # Set model to eval mode\n",
    "        test_correct = 0\n",
    "        test_total = 0\n",
    "        true_labels = []\n",
    "        predicted_labels = []\n",
    "\n",
    "        with torch.no_grad():\n",
    "            for data, target in test_dataloader:\n",
    "                data = data.float()\n",
    "                output = model(data)\n",
    "\n",
    "                # Calculate accuracy\n",
    "                _, predicted = torch.max(output.data, 1)\n",
    "                test_total += target.size(0)\n",
    "                test_correct += (predicted == target).sum().item()\n",
    "\n",
    "                true_labels.extend(target.tolist())\n",
    "                predicted_labels.extend(predicted.tolist())\n",
    "\n",
    "        # Calculate testing accuracy\n",
    "        test_accuracy = 100 * test_correct / test_total\n",
    "\n",
    "        # Print the progress\n",
    "        print(f\"Epoch {epoch+1}, Test Accuracy: {test_accuracy:.4f}\")\n",
    "\n",
    "    if show_classification_report:\n",
    "        report = classification_report(true_labels, predicted_labels)\n",
    "        print(report)\n",
    "    return model\n"
   ],
   "metadata": {
    "collapsed": false,
    "ExecuteTime": {
     "end_time": "2023-05-12T12:17:48.405908Z",
     "start_time": "2023-05-12T12:17:48.377567400Z"
    }
   }
  },
  {
   "cell_type": "markdown",
   "source": [
    "In this function, train accuracy and loss values are also kept, if desired, these values can also be observed."
   ],
   "metadata": {
    "collapsed": false
   }
  },
  {
   "cell_type": "markdown",
   "source": [
    "The code iterates through different values of out_channels for the MyCNN model, trains and evaluates the model for each value of out_channels, and prints the test accuracy for each epoch. The output shows the test accuracy for each epoch of each model trained with a different value of out_channels."
   ],
   "metadata": {
    "collapsed": false
   }
  },
  {
   "cell_type": "code",
   "execution_count": 36,
   "outputs": [
    {
     "name": "stdout",
     "output_type": "stream",
     "text": [
      "out channel is:  16\n",
      "Epoch 1, Test Accuracy: 0.9026\n",
      "out channel is:  16\n",
      "Epoch 2, Test Accuracy: 0.9135\n",
      "out channel is:  16\n",
      "Epoch 3, Test Accuracy: 0.9196\n",
      "out channel is:  16\n",
      "Epoch 4, Test Accuracy: 0.9271\n",
      "out channel is:  16\n",
      "Epoch 5, Test Accuracy: 0.9339\n",
      "out channel is:  16\n",
      "Epoch 6, Test Accuracy: 0.9421\n",
      "out channel is:  16\n",
      "Epoch 7, Test Accuracy: 0.9483\n",
      "out channel is:  16\n",
      "Epoch 8, Test Accuracy: 0.9552\n",
      "out channel is:  16\n",
      "Epoch 9, Test Accuracy: 0.9600\n",
      "out channel is:  16\n",
      "Epoch 10, Test Accuracy: 0.9643\n",
      "out channel is:  64\n",
      "Epoch 1, Test Accuracy: 0.9185\n",
      "out channel is:  64\n",
      "Epoch 2, Test Accuracy: 0.9341\n",
      "out channel is:  64\n",
      "Epoch 3, Test Accuracy: 0.9466\n",
      "out channel is:  64\n",
      "Epoch 4, Test Accuracy: 0.9564\n",
      "out channel is:  64\n",
      "Epoch 5, Test Accuracy: 0.9639\n",
      "out channel is:  64\n",
      "Epoch 6, Test Accuracy: 0.9685\n",
      "out channel is:  64\n",
      "Epoch 7, Test Accuracy: 0.9719\n",
      "out channel is:  64\n",
      "Epoch 8, Test Accuracy: 0.9736\n",
      "out channel is:  64\n",
      "Epoch 9, Test Accuracy: 0.9750\n",
      "out channel is:  64\n",
      "Epoch 10, Test Accuracy: 0.9760\n",
      "out channel is:  128\n",
      "Epoch 1, Test Accuracy: 0.9276\n",
      "out channel is:  128\n",
      "Epoch 2, Test Accuracy: 0.9492\n",
      "out channel is:  128\n",
      "Epoch 3, Test Accuracy: 0.9612\n",
      "out channel is:  128\n",
      "Epoch 4, Test Accuracy: 0.9672\n",
      "out channel is:  128\n",
      "Epoch 5, Test Accuracy: 0.9715\n",
      "out channel is:  128\n",
      "Epoch 6, Test Accuracy: 0.9732\n",
      "out channel is:  128\n",
      "Epoch 7, Test Accuracy: 0.9748\n",
      "out channel is:  128\n",
      "Epoch 8, Test Accuracy: 0.9764\n",
      "out channel is:  128\n",
      "Epoch 9, Test Accuracy: 0.9768\n",
      "out channel is:  128\n",
      "Epoch 10, Test Accuracy: 0.9773\n"
     ]
    }
   ],
   "source": [
    "out_channels_values = [16,64,128]\n",
    "for i in out_channels_values:\n",
    "    model = MyCNN(out_channels=i)\n",
    "    train_and_evaluate_model(model, train_dataloader, test_dataloader, \"out channel\",i,32,0.01,False)"
   ],
   "metadata": {
    "collapsed": false,
    "ExecuteTime": {
     "start_time": "2023-05-02T12:13:24.190972Z",
     "end_time": "2023-05-02T12:35:19.022678Z"
    }
   }
  },
  {
   "cell_type": "markdown",
   "source": [
    "The highest accuracy achieved is 0.9773 for out_channels = 128. The minimum accuracy achieved is 0.9026 for out_channels = 16. Based on the test accuracies, increasing the number of out_channels appears to improve the performance of the model."
   ],
   "metadata": {
    "collapsed": false
   }
  },
  {
   "cell_type": "markdown",
   "source": [
    "The code iterates through different values of kernel size for the MyCNN model."
   ],
   "metadata": {
    "collapsed": false
   }
  },
  {
   "cell_type": "code",
   "execution_count": 57,
   "outputs": [
    {
     "name": "stdout",
     "output_type": "stream",
     "text": [
      "kernel size : 3\n",
      "Epoch 1, Test Accuracy: 0.9245\n",
      "Epoch 2, Test Accuracy: 0.9432\n",
      "Epoch 3, Test Accuracy: 0.9554\n",
      "Epoch 4, Test Accuracy: 0.9618\n",
      "Epoch 5, Test Accuracy: 0.9675\n",
      "Epoch 6, Test Accuracy: 0.9717\n",
      "Epoch 7, Test Accuracy: 0.9743\n",
      "Epoch 8, Test Accuracy: 0.9752\n",
      "Epoch 9, Test Accuracy: 0.9760\n",
      "Epoch 10, Test Accuracy: 0.9769\n",
      "kernel size : 5\n",
      "Epoch 1, Test Accuracy: 0.9339\n",
      "Epoch 2, Test Accuracy: 0.9582\n",
      "Epoch 3, Test Accuracy: 0.9682\n",
      "Epoch 4, Test Accuracy: 0.9731\n",
      "Epoch 5, Test Accuracy: 0.9759\n",
      "Epoch 6, Test Accuracy: 0.9779\n",
      "Epoch 7, Test Accuracy: 0.9798\n",
      "Epoch 8, Test Accuracy: 0.9810\n",
      "Epoch 9, Test Accuracy: 0.9822\n",
      "Epoch 10, Test Accuracy: 0.9824\n",
      "kernel size : 7\n",
      "Epoch 1, Test Accuracy: 0.9365\n",
      "Epoch 2, Test Accuracy: 0.9593\n",
      "Epoch 3, Test Accuracy: 0.9692\n",
      "Epoch 4, Test Accuracy: 0.9735\n",
      "Epoch 5, Test Accuracy: 0.9772\n",
      "Epoch 6, Test Accuracy: 0.9798\n",
      "Epoch 7, Test Accuracy: 0.9820\n",
      "Epoch 8, Test Accuracy: 0.9826\n",
      "Epoch 9, Test Accuracy: 0.9833\n",
      "Epoch 10, Test Accuracy: 0.9839\n"
     ]
    }
   ],
   "source": [
    "kernel_sizes = [3,5,7]\n",
    "for i in kernel_sizes:\n",
    "    model = MyCNN(out_channels=128,kernel_size=i)\n",
    "    train_and_evaluate_model(model, train_dataloader, test_dataloader, \"kernel size\",i,32,0.01,False)"
   ],
   "metadata": {
    "collapsed": false
   }
  },
  {
   "cell_type": "markdown",
   "source": [
    "\n",
    "For the kernel size parameter, the highest accuracy achieved is 0.9839 for kernel size 7 and the lowest accuracy is 0.9245 for kernel size 3. In general, larger kernel sizes tend to perform better than smaller ones, which is consistent with the results we see here."
   ],
   "metadata": {
    "collapsed": false
   }
  },
  {
   "cell_type": "markdown",
   "source": [
    "The code iterates through different values of padding for the MyCNN model."
   ],
   "metadata": {
    "collapsed": false
   }
  },
  {
   "cell_type": "code",
   "execution_count": 59,
   "outputs": [
    {
     "name": "stdout",
     "output_type": "stream",
     "text": [
      "padding : 0\n",
      "Epoch 1, Test Accuracy: 0.9379\n",
      "Epoch 2, Test Accuracy: 0.9604\n",
      "Epoch 3, Test Accuracy: 0.9702\n",
      "Epoch 4, Test Accuracy: 0.9749\n",
      "Epoch 5, Test Accuracy: 0.9781\n",
      "Epoch 6, Test Accuracy: 0.9808\n",
      "Epoch 7, Test Accuracy: 0.9824\n",
      "Epoch 8, Test Accuracy: 0.9829\n",
      "Epoch 9, Test Accuracy: 0.9833\n",
      "Epoch 10, Test Accuracy: 0.9842\n",
      "padding : 1\n",
      "Epoch 1, Test Accuracy: 0.9389\n",
      "Epoch 2, Test Accuracy: 0.9604\n",
      "Epoch 3, Test Accuracy: 0.9710\n",
      "Epoch 4, Test Accuracy: 0.9760\n",
      "Epoch 5, Test Accuracy: 0.9794\n",
      "Epoch 6, Test Accuracy: 0.9814\n",
      "Epoch 7, Test Accuracy: 0.9828\n",
      "Epoch 8, Test Accuracy: 0.9832\n",
      "Epoch 9, Test Accuracy: 0.9834\n",
      "Epoch 10, Test Accuracy: 0.9842\n",
      "padding : 2\n",
      "Epoch 1, Test Accuracy: 0.9365\n",
      "Epoch 2, Test Accuracy: 0.9593\n",
      "Epoch 3, Test Accuracy: 0.9687\n",
      "Epoch 4, Test Accuracy: 0.9743\n",
      "Epoch 5, Test Accuracy: 0.9770\n",
      "Epoch 6, Test Accuracy: 0.9795\n",
      "Epoch 7, Test Accuracy: 0.9820\n",
      "Epoch 8, Test Accuracy: 0.9836\n",
      "Epoch 9, Test Accuracy: 0.9845\n",
      "Epoch 10, Test Accuracy: 0.9849\n"
     ]
    }
   ],
   "source": [
    "padding_values = [0, 1, 2]\n",
    "for i in padding_values:\n",
    "    model = MyCNN(out_channels=128,kernel_size=7,padding=i)\n",
    "    train_and_evaluate_model(model, train_dataloader, test_dataloader,\"padding\",i,32,0.01,False)"
   ],
   "metadata": {
    "collapsed": false
   }
  },
  {
   "cell_type": "markdown",
   "source": [
    "The highest accuracy achieved is 0.9849 for padding = 2. The minimum accuracy achieved is 0.9365 for padding = 2. Based on the test accuracies, increasing the padding size appears to initially improve the model's performance, but adding more padding beyond a certain point appears to have diminishing returns."
   ],
   "metadata": {
    "collapsed": false
   }
  },
  {
   "cell_type": "markdown",
   "source": [
    "The code iterates through different values of stride for the MyCNN model."
   ],
   "metadata": {
    "collapsed": false
   }
  },
  {
   "cell_type": "code",
   "execution_count": 60,
   "outputs": [
    {
     "name": "stdout",
     "output_type": "stream",
     "text": [
      "stride : 1\n",
      "Epoch 1, Test Accuracy: 0.9388\n",
      "Epoch 2, Test Accuracy: 0.9601\n",
      "Epoch 3, Test Accuracy: 0.9710\n",
      "Epoch 4, Test Accuracy: 0.9759\n",
      "Epoch 5, Test Accuracy: 0.9796\n",
      "Epoch 6, Test Accuracy: 0.9814\n",
      "Epoch 7, Test Accuracy: 0.9830\n",
      "Epoch 8, Test Accuracy: 0.9837\n",
      "Epoch 9, Test Accuracy: 0.9841\n",
      "Epoch 10, Test Accuracy: 0.9845\n",
      "stride : 2\n",
      "Epoch 1, Test Accuracy: 0.9308\n",
      "Epoch 2, Test Accuracy: 0.9510\n",
      "Epoch 3, Test Accuracy: 0.9609\n",
      "Epoch 4, Test Accuracy: 0.9679\n",
      "Epoch 5, Test Accuracy: 0.9724\n",
      "Epoch 6, Test Accuracy: 0.9748\n",
      "Epoch 7, Test Accuracy: 0.9772\n",
      "Epoch 8, Test Accuracy: 0.9782\n",
      "Epoch 9, Test Accuracy: 0.9790\n",
      "Epoch 10, Test Accuracy: 0.9804\n"
     ]
    }
   ],
   "source": [
    "stride_values =  [1, 2]\n",
    "for i in stride_values:\n",
    "    model = MyCNN(out_channels=128,kernel_size=7,padding=2,stride=i)\n",
    "    train_and_evaluate_model(model, train_dataloader, test_dataloader, \"stride\",i,32,0.01,False)"
   ],
   "metadata": {
    "collapsed": false,
    "ExecuteTime": {
     "start_time": "2023-05-02T16:16:36.350680Z",
     "end_time": "2023-05-02T16:37:04.628601Z"
    }
   }
  },
  {
   "cell_type": "markdown",
   "source": [
    "The highest accuracy achieved is 0.9845 for stride = 1. The minimum accuracy achieved is 0.9308 for stride = 2. Based on the test accuracies, using stride 1 appears to give better results than using stride 2, as the model achieved higher test accuracies when using stride 1."
   ],
   "metadata": {
    "collapsed": false
   }
  },
  {
   "cell_type": "markdown",
   "source": [
    "**According to the accuracy values, the best parameters are: out_channels = 128,kernel_size=7,padding=2,stride=1.**"
   ],
   "metadata": {
    "collapsed": false
   }
  },
  {
   "cell_type": "markdown",
   "source": [
    "The code iterates through different values of batch sizes for the MyCNN model."
   ],
   "metadata": {
    "collapsed": false
   }
  },
  {
   "cell_type": "code",
   "execution_count": 63,
   "outputs": [
    {
     "name": "stdout",
     "output_type": "stream",
     "text": [
      "batch_size : 32\n",
      "Epoch 1, Test Accuracy: 0.9387\n",
      "Epoch 2, Test Accuracy: 0.9609\n",
      "Epoch 3, Test Accuracy: 0.9713\n",
      "Epoch 4, Test Accuracy: 0.9748\n",
      "Epoch 5, Test Accuracy: 0.9786\n",
      "Epoch 6, Test Accuracy: 0.9808\n",
      "Epoch 7, Test Accuracy: 0.9826\n",
      "Epoch 8, Test Accuracy: 0.9840\n",
      "Epoch 9, Test Accuracy: 0.9842\n",
      "Epoch 10, Test Accuracy: 0.9845\n",
      "batch_size : 64\n",
      "Epoch 1, Test Accuracy: 0.9222\n",
      "Epoch 2, Test Accuracy: 0.9418\n",
      "Epoch 3, Test Accuracy: 0.9546\n",
      "Epoch 4, Test Accuracy: 0.9625\n",
      "Epoch 5, Test Accuracy: 0.9680\n",
      "Epoch 6, Test Accuracy: 0.9723\n",
      "Epoch 7, Test Accuracy: 0.9753\n",
      "Epoch 8, Test Accuracy: 0.9772\n",
      "Epoch 9, Test Accuracy: 0.9786\n",
      "Epoch 10, Test Accuracy: 0.9793\n",
      "batch_size : 128\n",
      "Epoch 1, Test Accuracy: 0.9135\n",
      "Epoch 2, Test Accuracy: 0.9259\n",
      "Epoch 3, Test Accuracy: 0.9355\n",
      "Epoch 4, Test Accuracy: 0.9446\n",
      "Epoch 5, Test Accuracy: 0.9507\n",
      "Epoch 6, Test Accuracy: 0.9552\n",
      "Epoch 7, Test Accuracy: 0.9603\n",
      "Epoch 8, Test Accuracy: 0.9637\n",
      "Epoch 9, Test Accuracy: 0.9660\n",
      "Epoch 10, Test Accuracy: 0.9689\n"
     ]
    }
   ],
   "source": [
    "batch_sizes = [32,64,128]\n",
    "for i in batch_sizes:\n",
    "    model = MyCNN(out_channels=128,kernel_size=7,padding=2,stride=1)\n",
    "    train_and_evaluate_model(model, train_dataloader, test_dataloader,\"batch_size\",i,i,0.01,False)"
   ],
   "metadata": {
    "collapsed": false
   }
  },
  {
   "cell_type": "markdown",
   "source": [
    "The highest accuracy achieved is 0.9845 for batch_size = 32. The minimum accuracy achieved is 0.9135 for batch_size = 128. Based on the test accuracies, increasing the batch size appears to initially improve the model's performance, but increasing the batch size beyond a certain point appears to have diminishing returns."
   ],
   "metadata": {
    "collapsed": false
   }
  },
  {
   "cell_type": "code",
   "execution_count": 15,
   "outputs": [
    {
     "name": "stdout",
     "output_type": "stream",
     "text": [
      "learning_rate : 0.1\n",
      "Epoch 1, Test Accuracy: 0.9791\n",
      "Epoch 2, Test Accuracy: 0.9842\n",
      "Epoch 3, Test Accuracy: 0.9856\n",
      "Epoch 4, Test Accuracy: 0.9867\n",
      "Epoch 5, Test Accuracy: 0.9873\n",
      "Epoch 6, Test Accuracy: 0.9882\n",
      "Epoch 7, Test Accuracy: 0.9885\n",
      "Epoch 8, Test Accuracy: 0.9886\n",
      "Epoch 9, Test Accuracy: 0.9889\n",
      "Epoch 10, Test Accuracy: 0.9889\n",
      "learning_rate : 0.001\n",
      "Epoch 1, Test Accuracy: 0.8966\n",
      "Epoch 2, Test Accuracy: 0.9145\n",
      "Epoch 3, Test Accuracy: 0.9230\n",
      "Epoch 4, Test Accuracy: 0.9279\n",
      "Epoch 5, Test Accuracy: 0.9317\n",
      "Epoch 6, Test Accuracy: 0.9355\n",
      "Epoch 7, Test Accuracy: 0.9385\n",
      "Epoch 8, Test Accuracy: 0.9417\n",
      "Epoch 9, Test Accuracy: 0.9440\n",
      "Epoch 10, Test Accuracy: 0.9468\n"
     ]
    }
   ],
   "source": [
    "learning_rates = [0.1, 0.001]\n",
    "for i in learning_rates:\n",
    "    model = MyCNN(out_channels=128,kernel_size=7,padding=2,stride=1)\n",
    "    train_and_evaluate_model(model, train_dataloader, test_dataloader,\"learning_rate\",i,32,i,False)"
   ],
   "metadata": {
    "collapsed": false,
    "ExecuteTime": {
     "start_time": "2023-05-03T11:40:24.189035Z",
     "end_time": "2023-05-03T12:06:22.095381Z"
    }
   }
  },
  {
   "cell_type": "markdown",
   "source": [
    "For the learning rate parameter, we can see that using a learning rate of 0.1 resulted in consistently high accuracy across all epochs, with the highest achieved accuracy of 0.9889. On the other hand, using a learning rate of 0.001 resulted in lower accuracies, with the highest accuracy achieved being 0.9468, which is significantly lower than the highest achieved accuracy using a learning rate of 0.1. Therefore, it appears that increasing the learning rate beyond a certain point can lead to improved model performance, while using too low of a learning rate can negatively impact performance."
   ],
   "metadata": {
    "collapsed": false
   }
  },
  {
   "cell_type": "markdown",
   "source": [
    "The final model final_my_cnn_model uses an output channel of 128, kernel size of 7, padding of 2, and stride of 1. With a batch size of 32 and learning rate of 0.1, the model achieves a high test accuracy of 0.9884 after 10 epochs of training. The precision, recall, and F1-score for each class show that the model performs very well on all classes with an overall accuracy of 0.99.\n",
    "\n",
    "**The classification report provides a more detailed evaluation of the model's performance for each class. It includes precision, recall, and F1-score for each class, as well as the support, which is the number of samples in each class.**\n",
    "\n",
    "Looking at the precision values, we can see that the model performs very well for most classes, with values ranging from 0.97 to 1.00. This indicates that the model is able to correctly identify most of the positive cases for each class.\n",
    "\n",
    "The recall values also show good performance for most classes, with values ranging from 0.98 to 1.00. This means that the model is able to correctly identify most of the actual positive cases for each class.\n",
    "\n",
    "The F1-score values are also high for most classes, with values ranging from 0.98 to 1.00. This indicates that the model has a good balance between precision and recall for each class.\n",
    "\n",
    "Overall, the classification report shows that the model performs very well for all classes, with high precision, recall, and F1-score values."
   ],
   "metadata": {
    "collapsed": false
   }
  },
  {
   "cell_type": "code",
   "execution_count": 18,
   "outputs": [
    {
     "name": "stdout",
     "output_type": "stream",
     "text": [
      "Epoch 1, Test Accuracy: 0.9783\n",
      "Epoch 2, Test Accuracy: 0.9839\n",
      "Epoch 3, Test Accuracy: 0.9848\n",
      "Epoch 4, Test Accuracy: 0.9863\n",
      "Epoch 5, Test Accuracy: 0.9873\n",
      "Epoch 6, Test Accuracy: 0.9879\n",
      "Epoch 7, Test Accuracy: 0.9878\n",
      "Epoch 8, Test Accuracy: 0.9880\n",
      "Epoch 9, Test Accuracy: 0.9883\n",
      "Epoch 10, Test Accuracy: 0.9884\n",
      "              precision    recall  f1-score   support\n",
      "\n",
      "           0       0.98      0.99      0.99       980\n",
      "           1       0.99      1.00      1.00      1135\n",
      "           2       0.97      0.99      0.98      1032\n",
      "           3       0.99      0.99      0.99      1010\n",
      "           4       0.99      1.00      0.99       982\n",
      "           5       0.98      0.99      0.99       892\n",
      "           6       1.00      0.98      0.99       958\n",
      "           7       0.99      0.98      0.99      1028\n",
      "           8       0.99      0.99      0.99       974\n",
      "           9       0.99      0.98      0.98      1009\n",
      "\n",
      "    accuracy                           0.99     10000\n",
      "   macro avg       0.99      0.99      0.99     10000\n",
      "weighted avg       0.99      0.99      0.99     10000\n",
      "\n"
     ]
    }
   ],
   "source": [
    "final_my_cnn_model = MyCNN(out_channels=128,kernel_size=7,padding=2,stride=1)\n",
    "train_and_evaluate_model(final_my_cnn_model, train_dataloader, test_dataloader, \"\",\"\",32,0.1,True)"
   ],
   "metadata": {
    "collapsed": false
   }
  },
  {
   "cell_type": "markdown",
   "source": [
    "After finding the best parameters in this architecture, a different architecture was created to improve the architecture."
   ],
   "metadata": {
    "collapsed": false
   }
  },
  {
   "cell_type": "code",
   "execution_count": 57,
   "outputs": [],
   "source": [
    "class MyCNN_2(nn.Module):\n",
    "\n",
    "    def __init__(self, out_channels=128, kernel_size=7, stride=1, padding=2):\n",
    "        super(MyCNN_2, self).__init__()\n",
    "\n",
    "        self.out_channels = out_channels\n",
    "        self.conv1 = nn.Conv2d(in_channels=1, out_channels=out_channels, kernel_size=kernel_size, stride=stride, padding=padding)\n",
    "        self.output = ((28 - kernel_size + (2*padding)) / stride) + 1\n",
    "\n",
    "        self.pool1 = nn.MaxPool2d(kernel_size=2, stride=2)\n",
    "        self.output = ((self.output - 2 + (2*0)) / 2) + 1\n",
    "\n",
    "        self.conv2 = nn.Conv2d(in_channels=out_channels, out_channels=out_channels*2, kernel_size=kernel_size, stride=stride, padding=padding)\n",
    "        self.output = ((self.output - kernel_size + (2*padding)) / stride) + 1\n",
    "\n",
    "        self.pool2 = nn.MaxPool2d(kernel_size=2, stride=2)\n",
    "        self.output = ((self.output - 2 + (2*0)) / 2) + 1\n",
    "        self.dropout1 = nn.Dropout(p=0.2)\n",
    "\n",
    "        self.fc1 = nn.Linear(in_features=int(self.output)*int(self.output)*int(out_channels*2), out_features=64)\n",
    "        self.dropout2 = nn.Dropout(p=0.5)\n",
    "        self.fc2 = nn.Linear(in_features=64, out_features=10)\n",
    "\n",
    "    def __repr__(self):\n",
    "        return \"\"\n",
    "\n",
    "    def forward(self, x):\n",
    "        x = x.view(-1, 1, 28, 28)\n",
    "        x = self.conv1(x)\n",
    "        x = nn.functional.relu(x)\n",
    "        x = self.pool1(x)\n",
    "        x = self.conv2(x)\n",
    "        x = nn.functional.relu(x)\n",
    "        x = self.pool2(x)\n",
    "        x = x.view(-1, int(self.output)*int(self.output)*int(self.out_channels*2))\n",
    "        x = self.dropout1(x)\n",
    "        x = self.fc1(x)\n",
    "\n",
    "        x = nn.functional.relu(x)\n",
    "        x = self.dropout2(x)\n",
    "        x = self.fc2(x)\n",
    "        return x"
   ],
   "metadata": {
    "collapsed": false,
    "ExecuteTime": {
     "end_time": "2023-05-10T12:08:47.827663700Z",
     "start_time": "2023-05-10T12:08:47.794650100Z"
    }
   }
  },
  {
   "cell_type": "markdown",
   "source": [
    "- In this new architecture, another convolutional layer was added, followed by a second max pooling layer. Two dropout layers were then added to prevent overfitting. Finally, a second fully connected layer with 64 hidden units was added before the final output layer.\n",
    "- The values of 0.2 and 0.5 are common choices for dropout rates in neural networks. The idea behind dropout is to randomly drop out a proportion of the neurons in each layer during training to prevent overfitting. The dropout rate determines the proportion of neurons that are dropped out, so a higher dropout rate means that more neurons are dropped out.\n",
    "- A dropout rate of 0.2 means that 20% of the neurons are dropped out during training, and a dropout rate of 0.5 means that 50% of the neurons are dropped out during training. These values have been found to work well in practice for many different types of neural networks, but the optimal dropout rate can vary depending on the architecture and the task at hand."
   ],
   "metadata": {
    "collapsed": false
   }
  },
  {
   "cell_type": "markdown",
   "source": [
    "After the best parameters found earlier were placed as default, other parameters were tried in turn and accuracy values were observed."
   ],
   "metadata": {
    "collapsed": false
   }
  },
  {
   "cell_type": "code",
   "execution_count": 21,
   "outputs": [
    {
     "name": "stdout",
     "output_type": "stream",
     "text": [
      "out channel : 32\n",
      "Epoch 1, Test Accuracy: 0.9815\n",
      "Epoch 2, Test Accuracy: 0.9855\n",
      "Epoch 3, Test Accuracy: 0.9900\n",
      "Epoch 4, Test Accuracy: 0.9882\n",
      "Epoch 5, Test Accuracy: 0.9903\n",
      "Epoch 6, Test Accuracy: 0.9908\n",
      "Epoch 7, Test Accuracy: 0.9925\n",
      "Epoch 8, Test Accuracy: 0.9906\n",
      "Epoch 9, Test Accuracy: 0.9917\n",
      "Epoch 10, Test Accuracy: 0.9924\n",
      "out channel : 64\n",
      "Epoch 1, Test Accuracy: 0.9834\n",
      "Epoch 2, Test Accuracy: 0.9884\n",
      "Epoch 3, Test Accuracy: 0.9901\n",
      "Epoch 4, Test Accuracy: 0.9905\n",
      "Epoch 5, Test Accuracy: 0.9927\n",
      "Epoch 6, Test Accuracy: 0.9929\n",
      "Epoch 7, Test Accuracy: 0.9920\n",
      "Epoch 8, Test Accuracy: 0.9930\n",
      "Epoch 9, Test Accuracy: 0.9897\n",
      "Epoch 10, Test Accuracy: 0.9925\n"
     ]
    }
   ],
   "source": [
    "out_channels_values =  [32, 64]\n",
    "for i in out_channels_values:\n",
    "    model = MyCNN_2(out_channels=i)\n",
    "    train_and_evaluate_model(model, train_dataloader, test_dataloader, \"out channel\",i,32,0.1,False)"
   ],
   "metadata": {
    "collapsed": false
   }
  },
  {
   "cell_type": "markdown",
   "source": [
    "It can be seen that the model with out_channels=64 achieves higher test accuracy than the model with out_channels=32. This suggests that increasing the number of output channels may improve the model's performance. However, it's important to note that this comparison only holds for the specific configuration of hyperparameters used in this experiment, and may not be generalizable to other hyperparameter settings."
   ],
   "metadata": {
    "collapsed": false
   }
  },
  {
   "cell_type": "code",
   "execution_count": 23,
   "outputs": [
    {
     "name": "stdout",
     "output_type": "stream",
     "text": [
      "kernel size : 3\n",
      "Epoch 1, Test Accuracy: 0.9785\n",
      "Epoch 2, Test Accuracy: 0.9839\n",
      "Epoch 3, Test Accuracy: 0.9847\n",
      "Epoch 4, Test Accuracy: 0.9883\n",
      "Epoch 5, Test Accuracy: 0.9893\n",
      "Epoch 6, Test Accuracy: 0.9895\n",
      "Epoch 7, Test Accuracy: 0.9904\n",
      "Epoch 8, Test Accuracy: 0.9900\n",
      "Epoch 9, Test Accuracy: 0.9914\n",
      "Epoch 10, Test Accuracy: 0.9920\n",
      "kernel size : 5\n",
      "Epoch 1, Test Accuracy: 0.9804\n",
      "Epoch 2, Test Accuracy: 0.9881\n",
      "Epoch 3, Test Accuracy: 0.9884\n",
      "Epoch 4, Test Accuracy: 0.9912\n",
      "Epoch 5, Test Accuracy: 0.9907\n",
      "Epoch 6, Test Accuracy: 0.9919\n",
      "Epoch 7, Test Accuracy: 0.9920\n",
      "Epoch 8, Test Accuracy: 0.9921\n",
      "Epoch 9, Test Accuracy: 0.9927\n",
      "Epoch 10, Test Accuracy: 0.9919\n"
     ]
    }
   ],
   "source": [
    "kernel_sizes = [3, 5]\n",
    "for i in kernel_sizes:\n",
    "    model = MyCNN_2(out_channels=32,kernel_size=i)\n",
    "    train_and_evaluate_model(model,  train_dataloader, test_dataloader,\"kernel size\",i,32,0.1,False)"
   ],
   "metadata": {
    "collapsed": false,
    "ExecuteTime": {
     "start_time": "2023-05-03T21:12:35.237750Z",
     "end_time": "2023-05-03T21:49:37.098947Z"
    }
   }
  },
  {
   "cell_type": "markdown",
   "source": [
    "The two sets of experiments were conducted to evaluate the effect of different kernel sizes on the performance of the CNN model. The first experiment used a kernel size of 3, with the highest accuracy of 0.9920 achieved in the 10th epoch, while the second experiment used a kernel size of 5, with the highest accuracy of 0.9927 achieved in the 9th epoch. Overall, the results indicate that a larger kernel size may improve the model's performance slightly, but the difference is relatively small."
   ],
   "metadata": {
    "collapsed": false
   }
  },
  {
   "cell_type": "code",
   "execution_count": 25,
   "outputs": [
    {
     "name": "stdout",
     "output_type": "stream",
     "text": [
      "padding : 1\n",
      "Epoch 1, Test Accuracy: 0.9780\n",
      "Epoch 2, Test Accuracy: 0.9854\n",
      "Epoch 3, Test Accuracy: 0.9870\n",
      "Epoch 4, Test Accuracy: 0.9872\n",
      "Epoch 5, Test Accuracy: 0.9886\n",
      "Epoch 6, Test Accuracy: 0.9884\n",
      "Epoch 7, Test Accuracy: 0.9894\n",
      "Epoch 8, Test Accuracy: 0.9914\n",
      "Epoch 9, Test Accuracy: 0.9900\n",
      "Epoch 10, Test Accuracy: 0.9902\n",
      "padding : 2\n",
      "Epoch 1, Test Accuracy: 0.9780\n",
      "Epoch 2, Test Accuracy: 0.9856\n",
      "Epoch 3, Test Accuracy: 0.9852\n",
      "Epoch 4, Test Accuracy: 0.9882\n",
      "Epoch 5, Test Accuracy: 0.9884\n",
      "Epoch 6, Test Accuracy: 0.9893\n",
      "Epoch 7, Test Accuracy: 0.9895\n",
      "Epoch 8, Test Accuracy: 0.9911\n",
      "Epoch 9, Test Accuracy: 0.9902\n",
      "Epoch 10, Test Accuracy: 0.9892\n"
     ]
    }
   ],
   "source": [
    "padding_values = [1, 2]\n",
    "for i in padding_values:\n",
    "    model = MyCNN_2(out_channels=32,kernel_size=3,padding = i)\n",
    "    train_and_evaluate_model(model, train_dataloader, test_dataloader, \"padding\",i,32,0.1,False)"
   ],
   "metadata": {
    "collapsed": false,
    "ExecuteTime": {
     "start_time": "2023-05-03T22:00:12.560750Z",
     "end_time": "2023-05-03T22:25:04.670487Z"
    }
   }
  },
  {
   "cell_type": "markdown",
   "source": [
    "The two sets of experiments were conducted to evaluate the effect of different padding values on the performance of the CNN model. The first experiment used a padding of 1, with the highest accuracy of 0.9914 achieved in the 8th epoch, while the second experiment used a padding of 2, with the highest accuracy of 0.9902 achieved in the 9th epoch. Overall, the results indicate that a smaller padding may improve the model's performance slightly, but the difference is relatively small."
   ],
   "metadata": {
    "collapsed": false
   }
  },
  {
   "cell_type": "code",
   "execution_count": 27,
   "outputs": [
    {
     "name": "stdout",
     "output_type": "stream",
     "text": [
      "stride : 1\n",
      "Epoch 1, Test Accuracy: 0.9774\n",
      "Epoch 2, Test Accuracy: 0.9850\n",
      "Epoch 3, Test Accuracy: 0.9876\n",
      "Epoch 4, Test Accuracy: 0.9880\n",
      "Epoch 5, Test Accuracy: 0.9899\n",
      "Epoch 6, Test Accuracy: 0.9900\n",
      "Epoch 7, Test Accuracy: 0.9906\n",
      "Epoch 8, Test Accuracy: 0.9906\n",
      "Epoch 9, Test Accuracy: 0.9906\n",
      "Epoch 10, Test Accuracy: 0.9913\n",
      "stride : 2\n",
      "Epoch 1, Test Accuracy: 0.9649\n",
      "Epoch 2, Test Accuracy: 0.9771\n",
      "Epoch 3, Test Accuracy: 0.9786\n",
      "Epoch 4, Test Accuracy: 0.9831\n",
      "Epoch 5, Test Accuracy: 0.9827\n",
      "Epoch 6, Test Accuracy: 0.9843\n",
      "Epoch 7, Test Accuracy: 0.9849\n",
      "Epoch 8, Test Accuracy: 0.9866\n",
      "Epoch 9, Test Accuracy: 0.9864\n",
      "Epoch 10, Test Accuracy: 0.9859\n"
     ]
    }
   ],
   "source": [
    "stride_values = [1, 2]\n",
    "for i in stride_values:\n",
    "    model = MyCNN_2(out_channels = 32,kernel_size = 3,padding = 1,stride = i)\n",
    "    train_and_evaluate_model(model, train_dataloader, test_dataloader,\"stride\",i,32,0.1,False)"
   ],
   "metadata": {
    "collapsed": false,
    "ExecuteTime": {
     "start_time": "2023-05-03T22:26:49.747586Z",
     "end_time": "2023-05-03T22:43:18.277261Z"
    }
   }
  },
  {
   "cell_type": "markdown",
   "source": [
    "The two sets of experiments were conducted to evaluate the effect of different stride values on the performance of the CNN model. The first experiment used a stride of 1, with the highest accuracy of 0.9913 achieved in the 10th epoch, while the second experiment used a stride of 2, with the highest accuracy of 0.9866 achieved in the 8th epoch. Overall, the results indicate that a smaller stride may improve the model's performance slightly."
   ],
   "metadata": {
    "collapsed": false
   }
  },
  {
   "cell_type": "code",
   "execution_count": 28,
   "outputs": [
    {
     "name": "stdout",
     "output_type": "stream",
     "text": [
      "batch size : 32\n",
      "Epoch 1, Test Accuracy: 0.9742\n",
      "Epoch 2, Test Accuracy: 0.9847\n",
      "Epoch 3, Test Accuracy: 0.9863\n",
      "Epoch 4, Test Accuracy: 0.9877\n",
      "Epoch 5, Test Accuracy: 0.9900\n",
      "Epoch 6, Test Accuracy: 0.9893\n",
      "Epoch 7, Test Accuracy: 0.9913\n",
      "Epoch 8, Test Accuracy: 0.9918\n",
      "Epoch 9, Test Accuracy: 0.9909\n",
      "Epoch 10, Test Accuracy: 0.9913\n",
      "batch size : 64\n",
      "Epoch 1, Test Accuracy: 0.9737\n",
      "Epoch 2, Test Accuracy: 0.9816\n",
      "Epoch 3, Test Accuracy: 0.9841\n",
      "Epoch 4, Test Accuracy: 0.9871\n",
      "Epoch 5, Test Accuracy: 0.9869\n",
      "Epoch 6, Test Accuracy: 0.9891\n",
      "Epoch 7, Test Accuracy: 0.9901\n",
      "Epoch 8, Test Accuracy: 0.9897\n",
      "Epoch 9, Test Accuracy: 0.9903\n",
      "Epoch 10, Test Accuracy: 0.9905\n"
     ]
    }
   ],
   "source": [
    "batch_sizes = [32, 64]\n",
    "for i in batch_sizes:\n",
    "    model = MyCNN_2(out_channels = 32,kernel_size = 3,padding = 1,stride = 1)\n",
    "    train_and_evaluate_model(model, train_dataloader, test_dataloader,\"batch size\",i,i,0.1,False)"
   ],
   "metadata": {
    "collapsed": false,
    "ExecuteTime": {
     "start_time": "2023-05-03T22:49:22.978334Z",
     "end_time": "2023-05-03T23:14:58.775799Z"
    }
   }
  },
  {
   "cell_type": "markdown",
   "source": [
    "The two sets of experiments were conducted to evaluate the effect of different kernel sizes on the performance of the CNN model. The first experiment used a batch size of 32, with the highest accuracy of 0.9913 achieved in the 10th epoch, while the second experiment used a kernel size of 64, with the highest accuracy of 0.9905 achieved in the 10th epoch. Overall, the results indicate that a smaller batch size may improve the model's performance slightly, but the difference is relatively small.\n"
   ],
   "metadata": {
    "collapsed": false
   }
  },
  {
   "cell_type": "code",
   "execution_count": 30,
   "outputs": [
    {
     "name": "stdout",
     "output_type": "stream",
     "text": [
      "learning rate : 0.01\n",
      "Epoch 1, Test Accuracy: 0.9209\n",
      "Epoch 2, Test Accuracy: 0.9561\n",
      "Epoch 3, Test Accuracy: 0.9661\n",
      "Epoch 4, Test Accuracy: 0.9724\n",
      "Epoch 5, Test Accuracy: 0.9775\n",
      "Epoch 6, Test Accuracy: 0.9792\n",
      "Epoch 7, Test Accuracy: 0.9812\n",
      "Epoch 8, Test Accuracy: 0.9834\n",
      "Epoch 9, Test Accuracy: 0.9834\n",
      "Epoch 10, Test Accuracy: 0.9849\n"
     ]
    }
   ],
   "source": [
    "learning_rates = [0.01]\n",
    "for i in learning_rates:\n",
    "    model = MyCNN_2(out_channels=32,kernel_size=3,padding = 1,stride = 1)\n",
    "    train_and_evaluate_model(model, train_dataloader, test_dataloader, \"learning rate\",i,32,i,False)"
   ],
   "metadata": {
    "collapsed": false,
    "ExecuteTime": {
     "start_time": "2023-05-03T23:17:39.188506Z",
     "end_time": "2023-05-03T23:36:49.322372Z"
    }
   }
  },
  {
   "cell_type": "markdown",
   "source": [
    "Since learning rate = 0.1 was tried by default in all other experiments, only 0.01 was tried here. According to the results, it was seen that the better learning rate provides higher accuracy values."
   ],
   "metadata": {
    "collapsed": false
   }
  },
  {
   "cell_type": "markdown",
   "source": [
    "The final model, MyCNN_2, has a total of 6 layers, with 2 convolutional layers, 2 max pooling layers, 2 dropout layers, and 2 fully connected layers. The model has 32 output channels, a kernel size of 3, a padding of 1, and a stride of 1. The dropout rate is set to 0.1, which means that 10% of the neurons are randomly dropped out during training."
   ],
   "metadata": {
    "collapsed": false
   }
  },
  {
   "cell_type": "code",
   "execution_count": 60,
   "outputs": [
    {
     "name": "stdout",
     "output_type": "stream",
     "text": [
      "Epoch 1, Test Accuracy: 98.2400\n",
      "Epoch 2, Test Accuracy: 98.7000\n",
      "Epoch 3, Test Accuracy: 98.7400\n",
      "Epoch 4, Test Accuracy: 99.0400\n",
      "Epoch 5, Test Accuracy: 99.0900\n",
      "Epoch 6, Test Accuracy: 99.0300\n",
      "Epoch 7, Test Accuracy: 99.0200\n",
      "Epoch 8, Test Accuracy: 99.2400\n",
      "Epoch 9, Test Accuracy: 99.2800\n",
      "Epoch 10, Test Accuracy: 99.2000\n",
      "              precision    recall  f1-score   support\n",
      "\n",
      "           0       1.00      1.00      1.00       980\n",
      "           1       1.00      1.00      1.00      1135\n",
      "           2       1.00      0.99      0.99      1032\n",
      "           3       1.00      0.99      0.99      1010\n",
      "           4       0.98      1.00      0.99       982\n",
      "           5       0.99      0.99      0.99       892\n",
      "           6       1.00      0.99      0.99       958\n",
      "           7       0.99      0.99      0.99      1028\n",
      "           8       0.98      1.00      0.99       974\n",
      "           9       1.00      0.97      0.98      1009\n",
      "\n",
      "    accuracy                           0.99     10000\n",
      "   macro avg       0.99      0.99      0.99     10000\n",
      "weighted avg       0.99      0.99      0.99     10000\n",
      "\n"
     ]
    },
    {
     "data": {
      "text/plain": ""
     },
     "execution_count": 60,
     "metadata": {},
     "output_type": "execute_result"
    }
   ],
   "source": [
    "final_my_cnn_2_model = MyCNN_2(out_channels = 32,kernel_size = 3,padding = 1,stride = 1)\n",
    "train_and_evaluate_model(final_my_cnn_2_model, train_dataloader, test_dataloader,\"\",\"\",32,0.1,True)"
   ],
   "metadata": {
    "collapsed": false,
    "ExecuteTime": {
     "end_time": "2023-05-10T13:08:55.860043700Z",
     "start_time": "2023-05-10T12:25:26.006426100Z"
    }
   }
  },
  {
   "cell_type": "markdown",
   "source": [
    "The final model achieves a very high accuracy of 99.2% on the test set, indicating that it is performing very well on the task of classifying handwritten digits. The precision, recall, and F1-score for each class are also very high, with most of them being 1.0, indicating that the model is performing well for each individual class. The macro-average and weighted-average F1-scores are also very high, indicating that the model is performing well across all classes."
   ],
   "metadata": {
    "collapsed": false
   }
  },
  {
   "cell_type": "code",
   "execution_count": 77,
   "outputs": [],
   "source": [
    "class MyCNN_3(nn.Module):\n",
    "\n",
    "    def __init__(self, out_channels=32, kernel_size=5, stride=1, padding=2):\n",
    "        super(MyCNN_3, self).__init__()\n",
    "        self.out_channels = out_channels\n",
    "        self.conv1 = nn.Conv2d(in_channels=1, out_channels=out_channels, kernel_size=kernel_size, stride=stride, padding=padding)\n",
    "        self.output = ((28 - kernel_size + (2*padding)) / stride) + 1\n",
    "        self.batchnorm1 = nn.BatchNorm2d(out_channels)\n",
    "        self.pool1 = nn.MaxPool2d(kernel_size=2, stride=2)\n",
    "        self.output = ((self.output - 2 + (2*0)) / 2) + 1\n",
    "        self.conv2 = nn.Conv2d(in_channels=out_channels, out_channels=out_channels*2, kernel_size=kernel_size, stride=stride, padding=padding)\n",
    "        self.output = ((self.output - kernel_size + (2*padding)) / stride) + 1\n",
    "        self.batchnorm2 = nn.BatchNorm2d(out_channels*2)\n",
    "        self.pool2 = nn.MaxPool2d(kernel_size=2, stride=2)\n",
    "        self.output = ((self.output - 2 + (2*0)) / 2) + 1\n",
    "        self.conv3 = nn.Conv2d(in_channels=out_channels*2, out_channels=out_channels*4, kernel_size=kernel_size, stride=stride, padding=padding)\n",
    "        self.output = ((self.output - kernel_size + (2*padding)) / stride) + 1\n",
    "        self.batchnorm3 = nn.BatchNorm2d(out_channels*4)\n",
    "        self.dropout1 = nn.Dropout(p=0.3)\n",
    "        self.fc1 = nn.Linear(in_features=int(self.output)*int(self.output)*int(out_channels*4), out_features=256)\n",
    "        self.dropout2 = nn.Dropout(p=0.5)\n",
    "        self.fc2 = nn.Linear(in_features=256, out_features=10)\n",
    "\n",
    "    def __repr__(self):\n",
    "        return \"\"\n",
    "\n",
    "    def forward(self, x):\n",
    "        x = x.view(-1, 1, 28, 28)\n",
    "        x = self.conv1(x)\n",
    "        x = nn.functional.relu(x)\n",
    "        x = self.batchnorm1(x)\n",
    "        x = self.pool1(x)\n",
    "        x = self.conv2(x)\n",
    "        x = nn.functional.relu(x)\n",
    "        x = self.batchnorm2(x)\n",
    "        x = self.pool2(x)\n",
    "        x = self.conv3(x)\n",
    "        x = nn.functional.relu(x)\n",
    "        x = self.batchnorm3(x)\n",
    "        x = x.view(-1, int(self.output)*int(self.output)*int(self.out_channels*4))\n",
    "        x = self.dropout1(x)\n",
    "        x = self.fc1(x)\n",
    "        x = nn.functional.relu(x)\n",
    "        x = self.dropout2(x)\n",
    "        x = self.fc2(x)\n",
    "        return x"
   ],
   "metadata": {
    "collapsed": false,
    "ExecuteTime": {
     "end_time": "2023-05-10T14:07:17.723775Z",
     "start_time": "2023-05-10T14:07:17.706630400Z"
    }
   }
  },
  {
   "cell_type": "markdown",
   "source": [
    " In the MyCNN_3 architecture, three convolutional layers were added, each followed by a max pooling layer and batch normalization. A dropout layer was also added after the third convolutional layer to prevent overfitting. Two fully connected layers were included, the first with 256 hidden units and the second with 10 output units. Dropout rates of 0.3 and 0.5 were used, respectively, for the two dropout layers. These dropout rates were chosen based on common practice in neural network training, where higher rates are used for deeper architectures to prevent overfitting, and the optimal rate can vary depending on the specific task and architecture."
   ],
   "metadata": {
    "collapsed": false
   }
  },
  {
   "cell_type": "code",
   "execution_count": 72,
   "outputs": [
    {
     "name": "stdout",
     "output_type": "stream",
     "text": [
      "out channel : 32\n",
      "Epoch 1, Test Accuracy: 66.4100\n",
      "Epoch 2, Test Accuracy: 82.2700\n",
      "Epoch 3, Test Accuracy: 78.0700\n",
      "Epoch 4, Test Accuracy: 88.2000\n",
      "Epoch 5, Test Accuracy: 85.8500\n",
      "Epoch 6, Test Accuracy: 86.2200\n",
      "Epoch 7, Test Accuracy: 85.3600\n",
      "Epoch 8, Test Accuracy: 79.0900\n",
      "Epoch 9, Test Accuracy: 85.7900\n",
      "Epoch 10, Test Accuracy: 86.8500\n",
      "out channel : 64\n",
      "Epoch 1, Test Accuracy: 78.2300\n",
      "Epoch 2, Test Accuracy: 82.3200\n",
      "Epoch 3, Test Accuracy: 82.8300\n",
      "Epoch 4, Test Accuracy: 82.8200\n",
      "Epoch 5, Test Accuracy: 84.0200\n",
      "Epoch 6, Test Accuracy: 81.8700\n",
      "Epoch 7, Test Accuracy: 86.4700\n",
      "Epoch 8, Test Accuracy: 84.5900\n",
      "Epoch 9, Test Accuracy: 80.6400\n",
      "Epoch 10, Test Accuracy: 77.0500\n"
     ]
    }
   ],
   "source": [
    "out_channels_values =  [32, 64]\n",
    "for i in out_channels_values:\n",
    "    model = MyCNN_3(out_channels=i)\n",
    "    train_and_evaluate_model(model, train_dataloader, test_dataloader, \"out channel\",i,32,0.1,False)"
   ],
   "metadata": {
    "collapsed": false,
    "ExecuteTime": {
     "end_time": "2023-05-10T14:02:21.444680900Z",
     "start_time": "2023-05-10T13:26:07.471950800Z"
    }
   }
  },
  {
   "cell_type": "markdown",
   "source": [
    "I have tried 2 different out_channels_values for this architecture. However, as seen above accuracy values are too low. There could be several reasons why the accuracy is low with this architecture. Here are some possible reasons:\n",
    "\n",
    "- Overfitting: It's possible that the model is overfitting to the training data and not generalizing well to the test data.\n",
    "\n",
    "- Learning rate: If the learning rate is too high, the model may not converge well, and if the learning rate is too low, it may take longer to converge.\n",
    "\n",
    "- Model complexity: The model may not be complex enough to learn the patterns in the data.\n"
   ],
   "metadata": {
    "collapsed": false
   }
  },
  {
   "cell_type": "markdown",
   "source": [
    "##### Extra CNN to Avoid Overfitting"
   ],
   "metadata": {
    "collapsed": false
   }
  },
  {
   "cell_type": "code",
   "execution_count": 15,
   "outputs": [],
   "source": [
    "class MyCNN_4(nn.Module):\n",
    "\n",
    "    def __init__(self, out_channels=16, kernel_size=3, stride=1, padding=1):\n",
    "        super(MyCNN_4, self).__init__()\n",
    "        self.out_channels = out_channels\n",
    "        self.output = (28 - kernel_size + (2*padding)) / stride + 1\n",
    "        self.conv1 = nn.Conv2d(in_channels=1, out_channels=out_channels, kernel_size=kernel_size, stride=stride, padding=padding)\n",
    "\n",
    "        self.pool1 = nn.MaxPool2d(kernel_size=2, stride=2)\n",
    "        self.output = (self.output - 2) / 2 + 1\n",
    "\n",
    "        self.dropout1 = nn.Dropout(p=0.2)\n",
    "\n",
    "        self.fc1 = nn.Linear(in_features=int(self.output)*int(self.output)*int(self.out_channels), out_features=64)\n",
    "        self.dropout2 = nn.Dropout(p=0.5)\n",
    "\n",
    "        self.fc2 = nn.Linear(in_features=64, out_features=10)\n",
    "\n",
    "    def __repr__(self):\n",
    "        return \"\"\n",
    "\n",
    "    def forward(self, x):\n",
    "        x = x.view(-1, 1, 28, 28)  # Add this line to specify input shape\n",
    "        x = self.conv1(x)\n",
    "        x = nn.functional.relu(x)\n",
    "        x = self.pool1(x)\n",
    "        x = x.view(-1, int(self.output)*int(self.output)*int(self.out_channels))\n",
    "\n",
    "        x = self.dropout1(x)\n",
    "        x = self.fc1(x)\n",
    "        x = nn.functional.relu(x)\n",
    "        x = self.dropout2(x)\n",
    "        x = self.fc2(x)\n",
    "        return x\n"
   ],
   "metadata": {
    "collapsed": false,
    "ExecuteTime": {
     "end_time": "2023-05-12T12:17:40.136731800Z",
     "start_time": "2023-05-12T12:17:40.116095600Z"
    }
   }
  },
  {
   "cell_type": "markdown",
   "source": [
    "The architecture MyCNN_4 is a convolutional neural network that is designed for classification tasks on 28x28 grayscale images. It consists of a single convolutional layer, a max-pooling layer, two fully connected layers, and dropout layers for regularization. The second pooling layer has been removed and replaced it with a dropout layer to help prevent overfitting. Another dropout layer has been added  before the second fully connected layer."
   ],
   "metadata": {
    "collapsed": false
   }
  },
  {
   "cell_type": "code",
   "execution_count": 95,
   "outputs": [
    {
     "name": "stdout",
     "output_type": "stream",
     "text": [
      "out channel : 32\n",
      "Epoch 1, Test Accuracy: 88.5300\n",
      "Epoch 2, Test Accuracy: 88.8400\n",
      "Epoch 3, Test Accuracy: 80.4700\n",
      "Epoch 4, Test Accuracy: 73.3800\n",
      "Epoch 5, Test Accuracy: 68.9000\n",
      "Epoch 6, Test Accuracy: 67.0800\n",
      "Epoch 7, Test Accuracy: 65.9800\n",
      "Epoch 8, Test Accuracy: 62.4700\n",
      "Epoch 9, Test Accuracy: 63.4600\n",
      "Epoch 10, Test Accuracy: 59.1400\n",
      "out channel : 64\n",
      "Epoch 1, Test Accuracy: 89.8100\n",
      "Epoch 2, Test Accuracy: 85.4400\n",
      "Epoch 3, Test Accuracy: 76.5600\n",
      "Epoch 4, Test Accuracy: 74.7600\n",
      "Epoch 5, Test Accuracy: 69.7000\n",
      "Epoch 6, Test Accuracy: 70.0300\n",
      "Epoch 7, Test Accuracy: 66.2000\n",
      "Epoch 8, Test Accuracy: 68.5400\n",
      "Epoch 9, Test Accuracy: 63.7200\n",
      "Epoch 10, Test Accuracy: 59.0900\n"
     ]
    }
   ],
   "source": [
    "out_channels_values =  [32, 64]\n",
    "for i in out_channels_values:\n",
    "    model = MyCNN_4(out_channels=i)\n",
    "    train_and_evaluate_model(model, train_dataloader, test_dataloader, \"out channel\",i,32,0.1,False)"
   ],
   "metadata": {
    "collapsed": false,
    "ExecuteTime": {
     "end_time": "2023-05-10T15:04:41.690913700Z",
     "start_time": "2023-05-10T14:56:16.156428400Z"
    }
   }
  },
  {
   "cell_type": "markdown",
   "source": [
    "\n",
    "Looping through different values of out_channels which are 32 and 64 in this case, and creating instances of MyCNN_4 model with each value. Then, it calls the train_and_evaluate_model function to train and evaluate the model for each out_channels value.\n",
    "Looking at the output, it shows the test accuracy of the model for each epoch during training. It seems that the model with out_channels of 32 achieved a higher accuracy than the one with 64 in the earlier epochs, but the latter caught up in later epochs."
   ],
   "metadata": {
    "collapsed": false
   }
  },
  {
   "cell_type": "code",
   "execution_count": 96,
   "outputs": [
    {
     "name": "stdout",
     "output_type": "stream",
     "text": [
      "kernel size : 5\n",
      "Epoch 1, Test Accuracy: 91.9700\n",
      "Epoch 2, Test Accuracy: 92.8800\n",
      "Epoch 3, Test Accuracy: 93.0700\n",
      "Epoch 4, Test Accuracy: 92.6300\n",
      "Epoch 5, Test Accuracy: 91.2900\n",
      "Epoch 6, Test Accuracy: 91.6100\n",
      "Epoch 7, Test Accuracy: 92.3600\n",
      "Epoch 8, Test Accuracy: 90.6500\n",
      "Epoch 9, Test Accuracy: 92.1400\n",
      "Epoch 10, Test Accuracy: 91.7000\n"
     ]
    },
    {
     "data": {
      "text/plain": ""
     },
     "execution_count": 96,
     "metadata": {},
     "output_type": "execute_result"
    }
   ],
   "source": [
    "model = MyCNN_4(out_channels=32,kernel_size=5)\n",
    "train_and_evaluate_model(model,  train_dataloader, test_dataloader,\"kernel size\",5,32,0.1,False)"
   ],
   "metadata": {
    "collapsed": false,
    "ExecuteTime": {
     "end_time": "2023-05-10T15:07:38.148396500Z",
     "start_time": "2023-05-10T15:04:41.692907400Z"
    }
   }
  },
  {
   "cell_type": "markdown",
   "source": [
    "Since the value of 3 has been tried in other experiments, only the value of 5 is tried for kernel_size this time. The results show that the accuracy is generally highest for kernel_size=5 but kernel_size=3 is still performing well."
   ],
   "metadata": {
    "collapsed": false
   }
  },
  {
   "cell_type": "code",
   "execution_count": 98,
   "outputs": [
    {
     "name": "stdout",
     "output_type": "stream",
     "text": [
      "padding : 2\n",
      "Epoch 1, Test Accuracy: 93.5000\n",
      "Epoch 2, Test Accuracy: 95.7500\n",
      "Epoch 3, Test Accuracy: 96.4100\n",
      "Epoch 4, Test Accuracy: 96.5700\n",
      "Epoch 5, Test Accuracy: 96.5000\n",
      "Epoch 6, Test Accuracy: 96.1500\n",
      "Epoch 7, Test Accuracy: 96.4900\n",
      "Epoch 8, Test Accuracy: 96.1800\n",
      "Epoch 9, Test Accuracy: 95.5000\n",
      "Epoch 10, Test Accuracy: 95.5700\n"
     ]
    },
    {
     "data": {
      "text/plain": ""
     },
     "execution_count": 98,
     "metadata": {},
     "output_type": "execute_result"
    }
   ],
   "source": [
    "model = MyCNN_4(out_channels=32,kernel_size=5,padding = 2)\n",
    "train_and_evaluate_model(model, train_dataloader, test_dataloader, \"padding\",2,32,0.1,False)"
   ],
   "metadata": {
    "collapsed": false,
    "ExecuteTime": {
     "end_time": "2023-05-10T15:12:46.527814200Z",
     "start_time": "2023-05-10T15:09:39.330691200Z"
    }
   }
  },
  {
   "cell_type": "markdown",
   "source": [
    "Since the value of 1 has been tried in other experiments, only the value of 2 is tried for padding this time. The results show that the accuracy is generally highest for padding=2 than padding=1."
   ],
   "metadata": {
    "collapsed": false
   }
  },
  {
   "cell_type": "code",
   "execution_count": 99,
   "outputs": [
    {
     "name": "stdout",
     "output_type": "stream",
     "text": [
      "stride : 2\n",
      "Epoch 1, Test Accuracy: 92.7800\n",
      "Epoch 2, Test Accuracy: 94.2700\n",
      "Epoch 3, Test Accuracy: 92.9300\n",
      "Epoch 4, Test Accuracy: 92.9300\n",
      "Epoch 5, Test Accuracy: 92.9400\n",
      "Epoch 6, Test Accuracy: 89.5500\n",
      "Epoch 7, Test Accuracy: 90.8500\n",
      "Epoch 8, Test Accuracy: 89.4300\n",
      "Epoch 9, Test Accuracy: 91.4200\n",
      "Epoch 10, Test Accuracy: 90.9400\n"
     ]
    },
    {
     "data": {
      "text/plain": ""
     },
     "execution_count": 99,
     "metadata": {},
     "output_type": "execute_result"
    }
   ],
   "source": [
    "model = MyCNN_4(out_channels = 32,kernel_size = 5,padding = 2,stride = 2)\n",
    "train_and_evaluate_model(model, train_dataloader, test_dataloader,\"stride\",2,32,0.1,False)"
   ],
   "metadata": {
    "collapsed": false,
    "ExecuteTime": {
     "end_time": "2023-05-10T15:13:40.997020500Z",
     "start_time": "2023-05-10T15:12:46.527814200Z"
    }
   }
  },
  {
   "cell_type": "markdown",
   "source": [
    "Since the value of 1 has been tried in other experiments, only the value of 2 is tried for stride this time. The results show that the accuracy is generally highest for stride=1."
   ],
   "metadata": {
    "collapsed": false
   }
  },
  {
   "cell_type": "code",
   "execution_count": 19,
   "outputs": [
    {
     "name": "stdout",
     "output_type": "stream",
     "text": [
      "learning rate : 0.01\n",
      "Epoch 1, Test Accuracy: 87.4900\n",
      "Epoch 2, Test Accuracy: 89.4900\n",
      "Epoch 3, Test Accuracy: 90.3300\n",
      "Epoch 4, Test Accuracy: 91.4200\n",
      "Epoch 5, Test Accuracy: 91.7900\n",
      "Epoch 6, Test Accuracy: 92.5600\n",
      "Epoch 7, Test Accuracy: 92.2200\n",
      "Epoch 8, Test Accuracy: 92.8500\n",
      "Epoch 9, Test Accuracy: 93.2900\n",
      "Epoch 10, Test Accuracy: 93.4500\n"
     ]
    },
    {
     "data": {
      "text/plain": ""
     },
     "execution_count": 19,
     "metadata": {},
     "output_type": "execute_result"
    }
   ],
   "source": [
    "model = MyCNN_4(out_channels=32,kernel_size=5,padding = 2,stride = 1)\n",
    "train_and_evaluate_model(model, train_dataloader, test_dataloader, \"learning rate\",0.01,32,0.01,False)"
   ],
   "metadata": {
    "collapsed": false,
    "ExecuteTime": {
     "end_time": "2023-05-12T12:22:32.251265900Z",
     "start_time": "2023-05-12T12:18:36.867378700Z"
    }
   }
  },
  {
   "cell_type": "markdown",
   "source": [
    "32 and 64 for out_channels_values, 3 and 5 for kernel size, 1 and 2 for padding and stride values, 0.01 and 0.1 for learning rate were tried. The best results were determined as out_channels=32,kernel_size=5,padding = 2,stride = 1, learning rate= 0.1 values and a final model was created with these parameters."
   ],
   "metadata": {
    "collapsed": false
   }
  },
  {
   "cell_type": "code",
   "execution_count": 21,
   "outputs": [
    {
     "name": "stdout",
     "output_type": "stream",
     "text": [
      "Epoch 1, Test Accuracy: 94.0700\n",
      "Epoch 2, Test Accuracy: 95.5400\n",
      "Epoch 3, Test Accuracy: 95.4200\n",
      "Epoch 4, Test Accuracy: 94.7500\n",
      "Epoch 5, Test Accuracy: 95.1800\n",
      "Epoch 6, Test Accuracy: 94.7000\n",
      "Epoch 7, Test Accuracy: 94.5300\n",
      "Epoch 8, Test Accuracy: 94.2900\n",
      "Epoch 9, Test Accuracy: 94.1300\n",
      "Epoch 10, Test Accuracy: 92.9600\n",
      "              precision    recall  f1-score   support\n",
      "\n",
      "           0       0.98      0.99      0.98       980\n",
      "           1       1.00      0.93      0.97      1135\n",
      "           2       0.99      0.92      0.95      1032\n",
      "           3       0.99      0.87      0.93      1010\n",
      "           4       0.99      0.98      0.99       982\n",
      "           5       1.00      0.75      0.86       892\n",
      "           6       0.98      0.97      0.98       958\n",
      "           7       0.99      0.94      0.97      1028\n",
      "           8       0.62      1.00      0.76       974\n",
      "           9       0.97      0.92      0.95      1009\n",
      "\n",
      "    accuracy                           0.93     10000\n",
      "   macro avg       0.95      0.93      0.93     10000\n",
      "weighted avg       0.95      0.93      0.93     10000\n",
      "\n"
     ]
    },
    {
     "data": {
      "text/plain": ""
     },
     "execution_count": 21,
     "metadata": {},
     "output_type": "execute_result"
    }
   ],
   "source": [
    "final_my_cnn_4_model = MyCNN_4(out_channels=32,kernel_size=5,padding = 2,stride = 1)\n",
    "train_and_evaluate_model(final_my_cnn_4_model, train_dataloader, test_dataloader, \"\", \"\", 32, 0.1, True)"
   ],
   "metadata": {
    "collapsed": false,
    "ExecuteTime": {
     "end_time": "2023-05-12T12:27:43.030988300Z",
     "start_time": "2023-05-12T12:23:44.394483Z"
    }
   }
  },
  {
   "cell_type": "markdown",
   "source": [
    "## Conclusion"
   ],
   "metadata": {
    "collapsed": false
   }
  },
  {
   "cell_type": "markdown",
   "source": [
    "This assignment investigates the effect of different CNN architectures and hyperparameters on image classification accuracy using the MNIST dataset. The results show that increasing or decreasing certain parameters can improve accuracy rates, but increasing hyperparameters also increases model complexity and training time. One architecture exhibited overfitting, emphasizing the need for regularization techniques. Additionally, creating custom data loaders can be crucial for handling large datasets and custom transformations. Overall, all tasks highlights the importance of properly tuning hyperparameters and implementing regularization techniques for improving CNN model performance in image classification tasks."
   ],
   "metadata": {
    "collapsed": false
   }
  },
  {
   "cell_type": "code",
   "execution_count": null,
   "outputs": [],
   "source": [],
   "metadata": {
    "collapsed": false
   }
  }
 ],
 "metadata": {
  "kernelspec": {
   "display_name": "Python 3",
   "language": "python",
   "name": "python3"
  },
  "language_info": {
   "codemirror_mode": {
    "name": "ipython",
    "version": 2
   },
   "file_extension": ".py",
   "mimetype": "text/x-python",
   "name": "python",
   "nbconvert_exporter": "python",
   "pygments_lexer": "ipython2",
   "version": "2.7.6"
  }
 },
 "nbformat": 4,
 "nbformat_minor": 0
}
